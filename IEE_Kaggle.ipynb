{
  "nbformat": 4,
  "nbformat_minor": 0,
  "metadata": {
    "colab": {
      "name": "IEE-Kaggle.ipynb",
      "provenance": [],
      "collapsed_sections": [],
      "machine_shape": "hm"
    },
    "kernelspec": {
      "name": "python3",
      "display_name": "Python 3"
    }
  },
  "cells": [
    {
      "cell_type": "code",
      "metadata": {
        "id": "_GJm8r_1U9Ur",
        "colab_type": "code",
        "colab": {}
      },
      "source": [
        "import pandas as pd\n",
        "\n",
        "train_identity = pd.read_csv('/content/drive/My Drive/datalab/IEEE_CIS_kaggle/train_identity.csv')\n",
        "train_transaction = pd.read_csv('/content/drive/My Drive/datalab/IEEE_CIS_kaggle/train_transaction.csv')\n"
      ],
      "execution_count": 0,
      "outputs": []
    },
    {
      "cell_type": "code",
      "metadata": {
        "id": "quLuOD0lWRKu",
        "colab_type": "code",
        "colab": {}
      },
      "source": [
        "data = pd.merge(how='left', right=train_identity, left=train_transaction, left_on='TransactionID', right_on='TransactionID')"
      ],
      "execution_count": 0,
      "outputs": []
    },
    {
      "cell_type": "code",
      "metadata": {
        "id": "cQLDbDJHA3p4",
        "colab_type": "code",
        "outputId": "0d459dab-452a-466d-cc47-88a84972b57a",
        "colab": {
          "base_uri": "https://localhost:8080/",
          "height": 54
        }
      },
      "source": [
        "print('isFraud = 1 :', len(data['isFraud']==1))\n",
        "print('isFraud = 0 :', len(data['isFraud']==0))"
      ],
      "execution_count": 0,
      "outputs": [
        {
          "output_type": "stream",
          "text": [
            "isFraud = 1 : 590540\n",
            "isFraud = 0 : 590540\n"
          ],
          "name": "stdout"
        }
      ]
    },
    {
      "cell_type": "code",
      "metadata": {
        "id": "hkVl39nxnsSR",
        "colab_type": "code",
        "outputId": "92fbfe8d-debc-49d6-ee3e-1dc3f7619898",
        "colab": {
          "base_uri": "https://localhost:8080/",
          "height": 35
        }
      },
      "source": [
        "import gc\n",
        "\n",
        "del train_identity, train_transaction\n",
        "gc.collect()"
      ],
      "execution_count": 0,
      "outputs": [
        {
          "output_type": "execute_result",
          "data": {
            "text/plain": [
              "106"
            ]
          },
          "metadata": {
            "tags": []
          },
          "execution_count": 38
        }
      ]
    },
    {
      "cell_type": "code",
      "metadata": {
        "id": "hF1uLXVZWWRI",
        "colab_type": "code",
        "outputId": "26e1212e-fda9-4979-ee2e-351e73e379dd",
        "colab": {
          "base_uri": "https://localhost:8080/",
          "height": 35
        }
      },
      "source": [
        "data_category = data.select_dtypes(include=['category', 'object'])\n",
        "data_category.index = data.index\n",
        "data_category = data_category.fillna('NaN')\n",
        "#data_category\n",
        "\n",
        "data_noCategory = data.select_dtypes(exclude=['category', 'object'])\n",
        "data_noCategory.index = data.index\n",
        "nan = -200\n",
        "data_noCategory = data_noCategory.fillna(nan)\n",
        "#data_noCategory\n",
        "\n",
        "from sklearn import preprocessing\n",
        "#data = data.drop(columns='isFraud')\n",
        "data_encoded = pd.DataFrame(columns=data_category.columns)\n",
        "le = preprocessing.LabelEncoder()\n",
        "for i in data_category.columns:\n",
        "    data_encoded[i] = le.fit_transform(data_category[i])\n",
        "    #print(i)\n",
        "    \n",
        "data_cleaned = pd.merge(left=data_noCategory, right=data_encoded, left_on = data_noCategory.index, right_on= data_encoded.index)\n",
        "del data_category, data_noCategory, data_encoded\n",
        "gc.collect()\n",
        "\n",
        "X_train = data_cleaned.drop(columns=['isFraud']).to_numpy()\n",
        "y_train = data_cleaned['isFraud'].to_numpy()\n",
        "\n",
        "del data_cleaned\n",
        "gc.collect()"
      ],
      "execution_count": 0,
      "outputs": [
        {
          "output_type": "execute_result",
          "data": {
            "text/plain": [
              "0"
            ]
          },
          "metadata": {
            "tags": []
          },
          "execution_count": 39
        }
      ]
    },
    {
      "cell_type": "code",
      "metadata": {
        "id": "-kJKtqGFWUCk",
        "colab_type": "code",
        "outputId": "66d8f6fb-c8dd-4d16-fffe-76a1c0aedefc",
        "colab": {
          "base_uri": "https://localhost:8080/",
          "height": 35
        }
      },
      "source": [
        "test_identity = pd.read_csv('/content/drive/My Drive/datalab/IEEE_CIS_kaggle/test_identity.csv')\n",
        "test_transaction = pd.read_csv('/content/drive/My Drive/datalab/IEEE_CIS_kaggle/test_transaction.csv')\n",
        "data_test = pd.merge(how='left', right=test_identity, left=test_transaction, left_on='TransactionID', right_on='TransactionID')\n",
        "import gc\n",
        "del test_identity, test_transaction\n",
        "gc.collect()\n",
        "data_category_test = data_test.select_dtypes(include=['category', 'object'])\n",
        "data_category_test.index = data_test.index\n",
        "data_category_test = data_category_test.fillna('NaN')\n",
        "\n",
        "data_noCategory_test = data_test.select_dtypes(exclude=['category', 'object'])\n",
        "data_noCategory_test.index = data_test.index\n",
        "nan = -200\n",
        "data_noCategory_test = data_noCategory_test.fillna(nan)\n",
        "#data_noCategory\n",
        "\n",
        "from sklearn import preprocessing\n",
        "#data = data.drop(columns='isFraud')\n",
        "data_encoded_test = pd.DataFrame(columns=data_category_test.columns)\n",
        "le = preprocessing.LabelEncoder()\n",
        "for i in data_category_test.columns:\n",
        "    data_encoded_test[i] = le.fit_transform(data_category_test[i])\n",
        "    #print(i)\n",
        " \n",
        "del data_category_test\n",
        "gc.collect() \n",
        "\n",
        "data_cleaned_test = pd.merge(left=data_noCategory_test, right=data_encoded_test, left_on = data_noCategory_test.index, right_on= data_encoded_test.index)\n",
        "\n",
        "del data_noCategory_test, data_encoded_test\n",
        "gc.collect()\n",
        "\n",
        "x_test = data_cleaned_test.to_numpy()\n",
        "\n",
        "del data_cleaned_test\n",
        "gc.collect()\n"
      ],
      "execution_count": 0,
      "outputs": [
        {
          "output_type": "execute_result",
          "data": {
            "text/plain": [
              "0"
            ]
          },
          "metadata": {
            "tags": []
          },
          "execution_count": 40
        }
      ]
    },
    {
      "cell_type": "code",
      "metadata": {
        "id": "tBrUFtNFQ07n",
        "colab_type": "code",
        "colab": {}
      },
      "source": [
        "\n",
        "from sklearn.preprocessing import StandardScaler\n",
        "X_train = StandardScaler().fit_transform(X_train)\n",
        "X_train = pd.DataFrame(X_train)\n",
        "x_test = StandardScaler().fit_transform(x_test)\n",
        "x_test = pd.DataFrame(x_test)"
      ],
      "execution_count": 0,
      "outputs": []
    },
    {
      "cell_type": "code",
      "metadata": {
        "id": "iMdLnLDdgszD",
        "colab_type": "code",
        "outputId": "7826aa5b-874d-4d2a-b362-3e667cebeb25",
        "colab": {
          "base_uri": "https://localhost:8080/",
          "height": 163
        }
      },
      "source": [
        "from sklearn.ensemble import RandomForestClassifier\n",
        "import numpy as np\n",
        "depth = 10\n",
        "clf = RandomForestClassifier(max_depth = depth, max_leaf_nodes = np.power(2, depth) - 1, random_state=0, class_weight = {0:1., 1:10000l0.})\n",
        "clf.fit(X_train, y_train)"
      ],
      "execution_count": 0,
      "outputs": [
        {
          "output_type": "execute_result",
          "data": {
            "text/plain": [
              "RandomForestClassifier(bootstrap=True, ccp_alpha=0.0,\n",
              "                       class_weight={0: 1.0, 1: 100000.0}, criterion='gini',\n",
              "                       max_depth=10, max_features='auto', max_leaf_nodes=1023,\n",
              "                       max_samples=None, min_impurity_decrease=0.0,\n",
              "                       min_impurity_split=None, min_samples_leaf=1,\n",
              "                       min_samples_split=2, min_weight_fraction_leaf=0.0,\n",
              "                       n_estimators=100, n_jobs=None, oob_score=False,\n",
              "                       random_state=0, verbose=0, warm_start=False)"
            ]
          },
          "metadata": {
            "tags": []
          },
          "execution_count": 27
        }
      ]
    },
    {
      "cell_type": "code",
      "metadata": {
        "id": "BhYMZ3h3MGAP",
        "colab_type": "code",
        "colab": {}
      },
      "source": [
        "from sklearn.ensemble import IsolationForest\n",
        "clf = IsolationForest(random_state=0).fit(X_train)"
      ],
      "execution_count": 0,
      "outputs": []
    },
    {
      "cell_type": "code",
      "metadata": {
        "id": "0Pqp5N1wHyV-",
        "colab_type": "code",
        "colab": {}
      },
      "source": [
        "pred_df = pd.DataFrame(clf.predict(x_test))"
      ],
      "execution_count": 0,
      "outputs": []
    },
    {
      "cell_type": "code",
      "metadata": {
        "id": "Iv2gy0fYLNMY",
        "colab_type": "code",
        "colab": {}
      },
      "source": [
        "pred_df.to_csv('/content/drive/My Drive/datalab/IEEE_CIS_kaggle/predictions.csv')"
      ],
      "execution_count": 0,
      "outputs": []
    },
    {
      "cell_type": "code",
      "metadata": {
        "id": "ci1SXnfdRIQf",
        "colab_type": "code",
        "outputId": "253b52cb-f8b0-4e9d-9de2-c877d7d6b51c",
        "colab": {
          "base_uri": "https://localhost:8080/",
          "height": 295
        }
      },
      "source": [
        "from sklearn.decomposition import PCA\n",
        "pca = PCA(2)\n",
        "x_pca = pca.fit_transform(X_train)\n",
        "x_pca = pd.DataFrame(x_pca)\n",
        "x_pca.columns=['PC1','PC2']\n",
        "\n",
        "# Plot\n",
        "## purple points: \"Normal\"\n",
        "## yellow points: \"Outliers\"\n",
        "import matplotlib.pyplot as plt\n",
        "plt.scatter(X_train[0], X_train[1], c=y_train, alpha=0.8)\n",
        "plt.title('Scatter plot')\n",
        "plt.xlabel('x')\n",
        "plt.ylabel('y')\n",
        "plt.show()"
      ],
      "execution_count": 0,
      "outputs": [
        {
          "output_type": "display_data",
          "data": {
            "image/png": "[encoded data removed]",
            "text/plain": [
              "<Figure size 432x288 with 1 Axes>"
            ]
          },
          "metadata": {
            "tags": [],
            "needs_background": "light"
          }
        }
      ]
    },
    {
      "cell_type": "code",
      "metadata": {
        "id": "XVHAtRsuR2qu",
        "colab_type": "code",
        "outputId": "856ff710-2542-4cce-bca5-c95daef6469a",
        "colab": {
          "base_uri": "https://localhost:8080/",
          "height": 1000
        }
      },
      "source": [
        "## Build the model\n",
        "## using pyod\n",
        "from pyod.models.auto_encoder import AutoEncoder\n",
        "clf1 = AutoEncoder(hidden_neurons=[256,128,128,256], epochs=10, dropout_rate=0.5)\n",
        "clf1.fit(X_train)\n"
      ],
      "execution_count": 0,
      "outputs": [
        {
          "output_type": "stream",
          "text": [
            "Model: \"sequential_13\"\n",
            "_________________________________________________________________\n",
            "Layer (type)                 Output Shape              Param #   \n",
            "=================================================================\n",
            "dense_62 (Dense)             (None, 434)               188790    \n",
            "_________________________________________________________________\n",
            "dropout_43 (Dropout)         (None, 434)               0         \n",
            "_________________________________________________________________\n",
            "dense_63 (Dense)             (None, 434)               188790    \n",
            "_________________________________________________________________\n",
            "dropout_44 (Dropout)         (None, 434)               0         \n",
            "_________________________________________________________________\n",
            "dense_64 (Dense)             (None, 256)               111360    \n",
            "_________________________________________________________________\n",
            "dropout_45 (Dropout)         (None, 256)               0         \n",
            "_________________________________________________________________\n",
            "dense_65 (Dense)             (None, 128)               32896     \n",
            "_________________________________________________________________\n",
            "dropout_46 (Dropout)         (None, 128)               0         \n",
            "_________________________________________________________________\n",
            "dense_66 (Dense)             (None, 128)               16512     \n",
            "_________________________________________________________________\n",
            "dropout_47 (Dropout)         (None, 128)               0         \n",
            "_________________________________________________________________\n",
            "dense_67 (Dense)             (None, 256)               33024     \n",
            "_________________________________________________________________\n",
            "dropout_48 (Dropout)         (None, 256)               0         \n",
            "_________________________________________________________________\n",
            "dense_68 (Dense)             (None, 434)               111538    \n",
            "=================================================================\n",
            "Total params: 682,910\n",
            "Trainable params: 682,910\n",
            "Non-trainable params: 0\n",
            "_________________________________________________________________\n",
            "None\n",
            "Train on 531486 samples, validate on 59054 samples\n",
            "Epoch 1/10\n",
            "531486/531486 [==============================] - 175s 329us/step - loss: 23.7850 - val_loss: 16.6354\n",
            "Epoch 2/10\n",
            "531486/531486 [==============================] - 172s 324us/step - loss: 35.8991 - val_loss: 51.9895\n",
            "Epoch 3/10\n",
            "531486/531486 [==============================] - 173s 325us/step - loss: 32.3288 - val_loss: 13.8376\n",
            "Epoch 4/10\n",
            "531486/531486 [==============================] - 173s 325us/step - loss: 28.3193 - val_loss: 21.3695\n",
            "Epoch 5/10\n",
            "531486/531486 [==============================] - 174s 327us/step - loss: 17.4338 - val_loss: 1.7359\n",
            "Epoch 6/10\n",
            "531486/531486 [==============================] - 175s 329us/step - loss: 14.7636 - val_loss: 10.6575\n",
            "Epoch 7/10\n",
            "531486/531486 [==============================] - 174s 328us/step - loss: 7.1737 - val_loss: 9.6655\n",
            "Epoch 8/10\n",
            "531486/531486 [==============================] - 174s 328us/step - loss: 13.2521 - val_loss: 2.2180\n",
            "Epoch 9/10\n",
            "531486/531486 [==============================] - 174s 327us/step - loss: 7.7061 - val_loss: 1.3058\n",
            "Epoch 10/10\n",
            "531486/531486 [==============================] - 173s 325us/step - loss: 6.0263 - val_loss: 1.9277\n"
          ],
          "name": "stdout"
        },
        {
          "output_type": "execute_result",
          "data": {
            "text/plain": [
              "AutoEncoder(batch_size=32, contamination=0.1, dropout_rate=0.5, epochs=10,\n",
              "      hidden_activation='relu', hidden_neurons=[256, 128, 128, 256],\n",
              "      l2_regularizer=0.1,\n",
              "      loss=<function mean_squared_error at 0x7f1e6c47c2f0>,\n",
              "      optimizer='adam', output_activation='sigmoid', preprocessing=True,\n",
              "      random_state=None, validation_size=0.1, verbose=1)"
            ]
          },
          "metadata": {
            "tags": []
          },
          "execution_count": 83
        }
      ]
    },
    {
      "cell_type": "code",
      "metadata": {
        "id": "6xB5PgRRgkSt",
        "colab_type": "code",
        "outputId": "e699fbec-f72c-479b-adc6-a87e07079999",
        "colab": {
          "base_uri": "https://localhost:8080/",
          "height": 281
        }
      },
      "source": [
        "# Get the outlier scores for the train data\n",
        "y_train_scores = clf1.decision_scores_  \n",
        "\n",
        "# Predict the anomaly scores\n",
        "y_test_scores = clf1.decision_function(x_test)  # outlier scores\n",
        "y_test_scores = pd.Series(y_test_scores)\n",
        "\n",
        "# Plot it\n",
        "import matplotlib.pyplot as plt\n",
        "plt.hist(y_test_scores, bins='auto')  \n",
        "plt.title(\"Histogram for Model Clf1 Anomaly Scores\")\n",
        "plt.show()"
      ],
      "execution_count": 0,
      "outputs": [
        {
          "output_type": "display_data",
          "data": {
            "image/png": "[encoded data removed]",
            "text/plain": [
              "<Figure size 432x288 with 1 Axes>"
            ]
          },
          "metadata": {
            "tags": [],
            "needs_background": "light"
          }
        }
      ]
    },
    {
      "cell_type": "code",
      "metadata": {
        "id": "SzO-uhIdhdh-",
        "colab_type": "code",
        "outputId": "5f90c0ad-84f6-4e38-ec16-479a53902c11",
        "colab": {
          "base_uri": "https://localhost:8080/",
          "height": 187
        }
      },
      "source": [
        "## summary statistics by cluster\n",
        "import numpy as np\n",
        "df_test = x_test.copy()\n",
        "df_test['score'] = y_test_scores\n",
        "df_test['cluster'] = np.where(df_test['score']<50, 0, 1)\n",
        "df_test['cluster'].value_counts()\n",
        "\n",
        "df_test.groupby('cluster').mean()"
      ],
      "execution_count": 0,
      "outputs": [
        {
          "output_type": "execute_result",
          "data": {
            "text/html": [
              "<div>\n",
              "<style scoped>\n",
              "    .dataframe tbody tr th:only-of-type {\n",
              "        vertical-align: middle;\n",
              "    }\n",
              "\n",
              "    .dataframe tbody tr th {\n",
              "        vertical-align: top;\n",
              "    }\n",
              "\n",
              "    .dataframe thead th {\n",
              "        text-align: right;\n",
              "    }\n",
              "</style>\n",
              "<table border=\"1\" class=\"dataframe\">\n",
              "  <thead>\n",
              "    <tr style=\"text-align: right;\">\n",
              "      <th></th>\n",
              "      <th>0</th>\n",
              "      <th>1</th>\n",
              "      <th>2</th>\n",
              "      <th>3</th>\n",
              "      <th>4</th>\n",
              "      <th>5</th>\n",
              "      <th>6</th>\n",
              "      <th>7</th>\n",
              "      <th>8</th>\n",
              "      <th>9</th>\n",
              "      <th>10</th>\n",
              "      <th>11</th>\n",
              "      <th>12</th>\n",
              "      <th>13</th>\n",
              "      <th>14</th>\n",
              "      <th>15</th>\n",
              "      <th>16</th>\n",
              "      <th>17</th>\n",
              "      <th>18</th>\n",
              "      <th>19</th>\n",
              "      <th>20</th>\n",
              "      <th>21</th>\n",
              "      <th>22</th>\n",
              "      <th>23</th>\n",
              "      <th>24</th>\n",
              "      <th>25</th>\n",
              "      <th>26</th>\n",
              "      <th>27</th>\n",
              "      <th>28</th>\n",
              "      <th>29</th>\n",
              "      <th>30</th>\n",
              "      <th>31</th>\n",
              "      <th>32</th>\n",
              "      <th>33</th>\n",
              "      <th>34</th>\n",
              "      <th>35</th>\n",
              "      <th>36</th>\n",
              "      <th>37</th>\n",
              "      <th>38</th>\n",
              "      <th>39</th>\n",
              "      <th>...</th>\n",
              "      <th>395</th>\n",
              "      <th>396</th>\n",
              "      <th>397</th>\n",
              "      <th>398</th>\n",
              "      <th>399</th>\n",
              "      <th>400</th>\n",
              "      <th>401</th>\n",
              "      <th>402</th>\n",
              "      <th>403</th>\n",
              "      <th>404</th>\n",
              "      <th>405</th>\n",
              "      <th>406</th>\n",
              "      <th>407</th>\n",
              "      <th>408</th>\n",
              "      <th>409</th>\n",
              "      <th>410</th>\n",
              "      <th>411</th>\n",
              "      <th>412</th>\n",
              "      <th>413</th>\n",
              "      <th>414</th>\n",
              "      <th>415</th>\n",
              "      <th>416</th>\n",
              "      <th>417</th>\n",
              "      <th>418</th>\n",
              "      <th>419</th>\n",
              "      <th>420</th>\n",
              "      <th>421</th>\n",
              "      <th>422</th>\n",
              "      <th>423</th>\n",
              "      <th>424</th>\n",
              "      <th>425</th>\n",
              "      <th>426</th>\n",
              "      <th>427</th>\n",
              "      <th>428</th>\n",
              "      <th>429</th>\n",
              "      <th>430</th>\n",
              "      <th>431</th>\n",
              "      <th>432</th>\n",
              "      <th>433</th>\n",
              "      <th>score</th>\n",
              "    </tr>\n",
              "    <tr>\n",
              "      <th>cluster</th>\n",
              "      <th></th>\n",
              "      <th></th>\n",
              "      <th></th>\n",
              "      <th></th>\n",
              "      <th></th>\n",
              "      <th></th>\n",
              "      <th></th>\n",
              "      <th></th>\n",
              "      <th></th>\n",
              "      <th></th>\n",
              "      <th></th>\n",
              "      <th></th>\n",
              "      <th></th>\n",
              "      <th></th>\n",
              "      <th></th>\n",
              "      <th></th>\n",
              "      <th></th>\n",
              "      <th></th>\n",
              "      <th></th>\n",
              "      <th></th>\n",
              "      <th></th>\n",
              "      <th></th>\n",
              "      <th></th>\n",
              "      <th></th>\n",
              "      <th></th>\n",
              "      <th></th>\n",
              "      <th></th>\n",
              "      <th></th>\n",
              "      <th></th>\n",
              "      <th></th>\n",
              "      <th></th>\n",
              "      <th></th>\n",
              "      <th></th>\n",
              "      <th></th>\n",
              "      <th></th>\n",
              "      <th></th>\n",
              "      <th></th>\n",
              "      <th></th>\n",
              "      <th></th>\n",
              "      <th></th>\n",
              "      <th></th>\n",
              "      <th></th>\n",
              "      <th></th>\n",
              "      <th></th>\n",
              "      <th></th>\n",
              "      <th></th>\n",
              "      <th></th>\n",
              "      <th></th>\n",
              "      <th></th>\n",
              "      <th></th>\n",
              "      <th></th>\n",
              "      <th></th>\n",
              "      <th></th>\n",
              "      <th></th>\n",
              "      <th></th>\n",
              "      <th></th>\n",
              "      <th></th>\n",
              "      <th></th>\n",
              "      <th></th>\n",
              "      <th></th>\n",
              "      <th></th>\n",
              "      <th></th>\n",
              "      <th></th>\n",
              "      <th></th>\n",
              "      <th></th>\n",
              "      <th></th>\n",
              "      <th></th>\n",
              "      <th></th>\n",
              "      <th></th>\n",
              "      <th></th>\n",
              "      <th></th>\n",
              "      <th></th>\n",
              "      <th></th>\n",
              "      <th></th>\n",
              "      <th></th>\n",
              "      <th></th>\n",
              "      <th></th>\n",
              "      <th></th>\n",
              "      <th></th>\n",
              "      <th></th>\n",
              "      <th></th>\n",
              "    </tr>\n",
              "  </thead>\n",
              "  <tbody>\n",
              "    <tr>\n",
              "      <th>0</th>\n",
              "      <td>0.024820</td>\n",
              "      <td>0.024820</td>\n",
              "      <td>0.02563</td>\n",
              "      <td>-0.001010</td>\n",
              "      <td>0.001418</td>\n",
              "      <td>-0.005096</td>\n",
              "      <td>-0.000464</td>\n",
              "      <td>0.005033</td>\n",
              "      <td>-0.005633</td>\n",
              "      <td>-0.005108</td>\n",
              "      <td>0.012898</td>\n",
              "      <td>-0.009178</td>\n",
              "      <td>-0.030065</td>\n",
              "      <td>-0.030647</td>\n",
              "      <td>-0.002814</td>\n",
              "      <td>-0.035531</td>\n",
              "      <td>0.005331</td>\n",
              "      <td>-0.029688</td>\n",
              "      <td>-0.027506</td>\n",
              "      <td>-0.034575</td>\n",
              "      <td>0.005719</td>\n",
              "      <td>-0.035637</td>\n",
              "      <td>-0.030681</td>\n",
              "      <td>-0.027360</td>\n",
              "      <td>-0.003947</td>\n",
              "      <td>-0.020912</td>\n",
              "      <td>0.011166</td>\n",
              "      <td>0.017212</td>\n",
              "      <td>0.024149</td>\n",
              "      <td>0.028240</td>\n",
              "      <td>0.020708</td>\n",
              "      <td>0.002236</td>\n",
              "      <td>-0.000274</td>\n",
              "      <td>-0.029247</td>\n",
              "      <td>-0.032789</td>\n",
              "      <td>0.034312</td>\n",
              "      <td>0.025479</td>\n",
              "      <td>0.003418</td>\n",
              "      <td>0.006687</td>\n",
              "      <td>-0.000242</td>\n",
              "      <td>...</td>\n",
              "      <td>-0.040061</td>\n",
              "      <td>-0.034930</td>\n",
              "      <td>-0.014463</td>\n",
              "      <td>-0.019151</td>\n",
              "      <td>-0.018304</td>\n",
              "      <td>-0.019160</td>\n",
              "      <td>-0.018924</td>\n",
              "      <td>-0.056199</td>\n",
              "      <td>0.023724</td>\n",
              "      <td>0.009463</td>\n",
              "      <td>0.022193</td>\n",
              "      <td>0.006973</td>\n",
              "      <td>-0.030981</td>\n",
              "      <td>0.036811</td>\n",
              "      <td>0.024545</td>\n",
              "      <td>0.015225</td>\n",
              "      <td>-0.022999</td>\n",
              "      <td>-0.002235</td>\n",
              "      <td>-0.002154</td>\n",
              "      <td>-0.017277</td>\n",
              "      <td>-0.005152</td>\n",
              "      <td>0.017552</td>\n",
              "      <td>-0.009122</td>\n",
              "      <td>0.003725</td>\n",
              "      <td>0.004356</td>\n",
              "      <td>0.017049</td>\n",
              "      <td>0.019122</td>\n",
              "      <td>0.010608</td>\n",
              "      <td>0.010190</td>\n",
              "      <td>-0.005736</td>\n",
              "      <td>-0.038694</td>\n",
              "      <td>0.054920</td>\n",
              "      <td>-0.057098</td>\n",
              "      <td>-0.041307</td>\n",
              "      <td>0.036288</td>\n",
              "      <td>-0.015901</td>\n",
              "      <td>-0.007896</td>\n",
              "      <td>-0.033799</td>\n",
              "      <td>-0.037616</td>\n",
              "      <td>14.775623</td>\n",
              "    </tr>\n",
              "    <tr>\n",
              "      <th>1</th>\n",
              "      <td>-0.878886</td>\n",
              "      <td>-0.878886</td>\n",
              "      <td>-0.90757</td>\n",
              "      <td>0.035753</td>\n",
              "      <td>-0.050228</td>\n",
              "      <td>0.180466</td>\n",
              "      <td>0.016444</td>\n",
              "      <td>-0.178210</td>\n",
              "      <td>0.199463</td>\n",
              "      <td>0.180870</td>\n",
              "      <td>-0.456742</td>\n",
              "      <td>0.324984</td>\n",
              "      <td>1.064631</td>\n",
              "      <td>1.085227</td>\n",
              "      <td>0.099643</td>\n",
              "      <td>1.258166</td>\n",
              "      <td>-0.188779</td>\n",
              "      <td>1.051275</td>\n",
              "      <td>0.974015</td>\n",
              "      <td>1.224316</td>\n",
              "      <td>-0.202508</td>\n",
              "      <td>1.261925</td>\n",
              "      <td>1.086419</td>\n",
              "      <td>0.968828</td>\n",
              "      <td>0.139758</td>\n",
              "      <td>0.740498</td>\n",
              "      <td>-0.395392</td>\n",
              "      <td>-0.609483</td>\n",
              "      <td>-0.855127</td>\n",
              "      <td>-0.999999</td>\n",
              "      <td>-0.733268</td>\n",
              "      <td>-0.079175</td>\n",
              "      <td>0.009720</td>\n",
              "      <td>1.035672</td>\n",
              "      <td>1.161083</td>\n",
              "      <td>-1.215018</td>\n",
              "      <td>-0.902220</td>\n",
              "      <td>-0.121041</td>\n",
              "      <td>-0.236792</td>\n",
              "      <td>0.008577</td>\n",
              "      <td>...</td>\n",
              "      <td>1.418593</td>\n",
              "      <td>1.236901</td>\n",
              "      <td>0.512137</td>\n",
              "      <td>0.678149</td>\n",
              "      <td>0.648168</td>\n",
              "      <td>0.678455</td>\n",
              "      <td>0.670103</td>\n",
              "      <td>1.990027</td>\n",
              "      <td>-0.840084</td>\n",
              "      <td>-0.335077</td>\n",
              "      <td>-0.785875</td>\n",
              "      <td>-0.246917</td>\n",
              "      <td>1.097069</td>\n",
              "      <td>-1.303489</td>\n",
              "      <td>-0.869166</td>\n",
              "      <td>-0.539119</td>\n",
              "      <td>0.814413</td>\n",
              "      <td>0.079150</td>\n",
              "      <td>0.076282</td>\n",
              "      <td>0.611785</td>\n",
              "      <td>0.182441</td>\n",
              "      <td>-0.621512</td>\n",
              "      <td>0.323031</td>\n",
              "      <td>-0.131900</td>\n",
              "      <td>-0.154241</td>\n",
              "      <td>-0.603713</td>\n",
              "      <td>-0.677135</td>\n",
              "      <td>-0.375647</td>\n",
              "      <td>-0.360832</td>\n",
              "      <td>0.203104</td>\n",
              "      <td>1.370193</td>\n",
              "      <td>-1.944749</td>\n",
              "      <td>2.021876</td>\n",
              "      <td>1.462710</td>\n",
              "      <td>-1.284980</td>\n",
              "      <td>0.563066</td>\n",
              "      <td>0.279597</td>\n",
              "      <td>1.196838</td>\n",
              "      <td>1.332026</td>\n",
              "      <td>64.050011</td>\n",
              "    </tr>\n",
              "  </tbody>\n",
              "</table>\n",
              "<p>2 rows × 435 columns</p>\n",
              "</div>"
            ],
            "text/plain": [
              "                0         1        2  ...       432       433      score\n",
              "cluster                               ...                               \n",
              "0        0.024820  0.024820  0.02563  ... -0.033799 -0.037616  14.775623\n",
              "1       -0.878886 -0.878886 -0.90757  ...  1.196838  1.332026  64.050011\n",
              "\n",
              "[2 rows x 435 columns]"
            ]
          },
          "metadata": {
            "tags": []
          },
          "execution_count": 85
        }
      ]
    },
    {
      "cell_type": "code",
      "metadata": {
        "id": "FgK-63JYj2gH",
        "colab_type": "code",
        "outputId": "f0154f8e-11b6-411c-9171-d7612944f3ed",
        "colab": {
          "base_uri": "https://localhost:8080/",
          "height": 35
        }
      },
      "source": [
        "print(len(df_test['cluster']), len(x_test))"
      ],
      "execution_count": 0,
      "outputs": [
        {
          "output_type": "stream",
          "text": [
            "506691 506691\n"
          ],
          "name": "stdout"
        }
      ]
    },
    {
      "cell_type": "code",
      "metadata": {
        "id": "VcFZJovnkhqj",
        "colab_type": "code",
        "colab": {}
      },
      "source": [
        "df_test['cluster'].to_csv('/content/drive/My Drive/datalab/IEEE_CIS_kaggle/predictions.csv')"
      ],
      "execution_count": 0,
      "outputs": []
    },
    {
      "cell_type": "code",
      "metadata": {
        "id": "FlINIZttXKCH",
        "colab_type": "code",
        "colab": {}
      },
      "source": [
        "def model_relu ():\n",
        "    import keras\n",
        "    from keras.models import Sequential\n",
        "    from keras.layers import Dense, Dropout\n",
        "    #from keras.preprocessing import \n",
        "\n",
        "    model = Sequential()\n",
        "    model.add(Dense(128, activation='relu', input_shape=(434, )))\n",
        "    # model.add(Dense(128, activation='relu'))\n",
        "    # model.add(Dense(128, activation='relu'))\n",
        "    # model.add(Dropout(0.5))\n",
        "    model.add(Dense(1, activation='sigmoid'))\n",
        "    return model"
      ],
      "execution_count": 0,
      "outputs": []
    },
    {
      "cell_type": "code",
      "metadata": {
        "id": "f-KnqhdbXNZX",
        "colab_type": "code",
        "colab": {}
      },
      "source": [
        "def model_tanh ():\n",
        "    import keras\n",
        "    from keras.models import Sequential\n",
        "    from keras.layers import Dense\n",
        "    #from keras.preprocessing import \n",
        "\n",
        "    model = Sequential()\n",
        "    model.add(Dense(64, activation='tanh', input_shape=(434, )))\n",
        "    model.add(Dense(64, activation='tanh'))\n",
        "    model.add(Dense(64, activation='tanh'))\n",
        "    model.add(Dense(64, activation='tanh'))\n",
        "    model.add(Dense(1, activation='sigmoid'))\n",
        "    return model"
      ],
      "execution_count": 0,
      "outputs": []
    },
    {
      "cell_type": "code",
      "metadata": {
        "id": "zdMQeL6gXPjm",
        "colab_type": "code",
        "colab": {}
      },
      "source": [
        "model = model_relu()"
      ],
      "execution_count": 0,
      "outputs": []
    },
    {
      "cell_type": "code",
      "metadata": {
        "id": "HLrauEE9ERn4",
        "colab_type": "code",
        "outputId": "4981fdf7-ced2-4e79-99e7-d6a99559d37f",
        "colab": {
          "base_uri": "https://localhost:8080/",
          "height": 235
        }
      },
      "source": [
        "model.summary()"
      ],
      "execution_count": 0,
      "outputs": [
        {
          "output_type": "stream",
          "text": [
            "Model: \"sequential_5\"\n",
            "_________________________________________________________________\n",
            "Layer (type)                 Output Shape              Param #   \n",
            "=================================================================\n",
            "dense_13 (Dense)             (None, 128)               55680     \n",
            "_________________________________________________________________\n",
            "dense_14 (Dense)             (None, 1)                 129       \n",
            "=================================================================\n",
            "Total params: 55,809\n",
            "Trainable params: 55,809\n",
            "Non-trainable params: 0\n",
            "_________________________________________________________________\n"
          ],
          "name": "stdout"
        }
      ]
    },
    {
      "cell_type": "code",
      "metadata": {
        "id": "tH4CUmlJXSiA",
        "colab_type": "code",
        "colab": {}
      },
      "source": [
        "model.compile(optimizer='rmsprop', loss='binary_crossentropy', metrics=['accuracy'])"
      ],
      "execution_count": 0,
      "outputs": []
    },
    {
      "cell_type": "code",
      "metadata": {
        "id": "ejtP7jhyXUqt",
        "colab_type": "code",
        "outputId": "d3512563-408f-4fec-e4e2-c92dbffb8951",
        "colab": {
          "base_uri": "https://localhost:8080/",
          "height": 399
        }
      },
      "source": [
        "class_weight = {0:1., 1:100000.}\n",
        "history = model.fit(X_train, y_train, epochs=10, batch_size=512, validation_split=0.3)"
      ],
      "execution_count": 0,
      "outputs": [
        {
          "output_type": "stream",
          "text": [
            "Train on 413378 samples, validate on 177162 samples\n",
            "Epoch 1/10\n",
            "413378/413378 [==============================] - 6s 14us/step - loss: 0.1560 - accuracy: 0.9641 - val_loss: 0.1923 - val_accuracy: 0.9654\n",
            "Epoch 2/10\n",
            "413378/413378 [==============================] - 6s 14us/step - loss: 0.1515 - accuracy: 0.9648 - val_loss: 0.2445 - val_accuracy: 0.9654\n",
            "Epoch 3/10\n",
            "413378/413378 [==============================] - 6s 14us/step - loss: 0.1518 - accuracy: 0.9648 - val_loss: 0.2559 - val_accuracy: 0.9654\n",
            "Epoch 4/10\n",
            "413378/413378 [==============================] - 6s 14us/step - loss: 0.1517 - accuracy: 0.9648 - val_loss: 0.2680 - val_accuracy: 0.9654\n",
            "Epoch 5/10\n",
            "413378/413378 [==============================] - 6s 14us/step - loss: 0.1513 - accuracy: 0.9648 - val_loss: 0.2931 - val_accuracy: 0.9654\n",
            "Epoch 6/10\n",
            "413378/413378 [==============================] - 6s 14us/step - loss: 0.1512 - accuracy: 0.9648 - val_loss: 0.3287 - val_accuracy: 0.9633\n",
            "Epoch 7/10\n",
            "413378/413378 [==============================] - 6s 14us/step - loss: 0.1511 - accuracy: 0.9648 - val_loss: 0.3479 - val_accuracy: 0.9632\n",
            "Epoch 8/10\n",
            "413378/413378 [==============================] - 6s 14us/step - loss: 0.1509 - accuracy: 0.9648 - val_loss: 0.4092 - val_accuracy: 0.9249\n",
            "Epoch 9/10\n",
            "413378/413378 [==============================] - 6s 14us/step - loss: 0.1510 - accuracy: 0.9648 - val_loss: 0.3169 - val_accuracy: 0.9632\n",
            "Epoch 10/10\n",
            "413378/413378 [==============================] - 6s 14us/step - loss: 0.1510 - accuracy: 0.9648 - val_loss: 0.3570 - val_accuracy: 0.9481\n"
          ],
          "name": "stdout"
        }
      ]
    },
    {
      "cell_type": "code",
      "metadata": {
        "id": "gpCoAw0GXWp_",
        "colab_type": "code",
        "colab": {}
      },
      "source": [
        "history_dict = history.history"
      ],
      "execution_count": 0,
      "outputs": []
    },
    {
      "cell_type": "code",
      "metadata": {
        "id": "6hOK8g5xXYto",
        "colab_type": "code",
        "outputId": "c0ebc643-df2a-4872-9af7-6da6b720cbd1",
        "colab": {
          "base_uri": "https://localhost:8080/",
          "height": 35
        }
      },
      "source": [
        "history_dict.keys()"
      ],
      "execution_count": 0,
      "outputs": [
        {
          "output_type": "execute_result",
          "data": {
            "text/plain": [
              "dict_keys(['val_loss', 'val_accuracy', 'loss', 'accuracy'])"
            ]
          },
          "metadata": {
            "tags": []
          },
          "execution_count": 33
        }
      ]
    },
    {
      "cell_type": "code",
      "metadata": {
        "id": "WAPhFKmgXa0u",
        "colab_type": "code",
        "outputId": "005b2875-ba08-4eb0-b160-2d6b75d34e07",
        "colab": {
          "base_uri": "https://localhost:8080/",
          "height": 281
        }
      },
      "source": [
        "# plot acc\n",
        "import matplotlib.pyplot as plt\n",
        "acc = history_dict['accuracy']\n",
        "val_acc = history_dict['val_accuracy']\n",
        "\n",
        "epochs = range(1, len(history_dict['accuracy']) +1)\n",
        "\n",
        "plt.plot(epochs, acc, label= 'Training acc')\n",
        "plt.plot(epochs, val_acc, label='validation acc')\n",
        "plt.title('training and validation accuracy')\n",
        "\n",
        "plt.legend()\n",
        "\n",
        "plt.show()"
      ],
      "execution_count": 0,
      "outputs": [
        {
          "output_type": "display_data",
          "data": {
            "image/png": "[encoded data removed]",
            "text/plain": [
              "<Figure size 432x288 with 1 Axes>"
            ]
          },
          "metadata": {
            "tags": [],
            "needs_background": "light"
          }
        }
      ]
    },
    {
      "cell_type": "code",
      "metadata": {
        "id": "rWQOqVn1XcuA",
        "colab_type": "code",
        "colab": {}
      },
      "source": [
        "predictions = model.predict(x_test)"
      ],
      "execution_count": 0,
      "outputs": []
    },
    {
      "cell_type": "code",
      "metadata": {
        "id": "WstCORBrosZM",
        "colab_type": "code",
        "colab": {}
      },
      "source": [
        "pred_class = model.predict_classes(x_test)"
      ],
      "execution_count": 0,
      "outputs": []
    },
    {
      "cell_type": "code",
      "metadata": {
        "id": "nf64cRcLo1e_",
        "colab_type": "code",
        "outputId": "ea6fce37-2a0a-4c4e-b840-f3754449d487",
        "colab": {
          "base_uri": "https://localhost:8080/",
          "height": 145
        }
      },
      "source": [
        "pred_class"
      ],
      "execution_count": 0,
      "outputs": [
        {
          "output_type": "execute_result",
          "data": {
            "text/plain": [
              "array([[0],\n",
              "       [0],\n",
              "       [0],\n",
              "       ...,\n",
              "       [0],\n",
              "       [0],\n",
              "       [0]], dtype=int32)"
            ]
          },
          "metadata": {
            "tags": []
          },
          "execution_count": 37
        }
      ]
    },
    {
      "cell_type": "code",
      "metadata": {
        "id": "6C55FoqEXfB7",
        "colab_type": "code",
        "colab": {}
      },
      "source": [
        "pred_df = pd.DataFrame(pred_class)"
      ],
      "execution_count": 0,
      "outputs": []
    },
    {
      "cell_type": "code",
      "metadata": {
        "id": "1K4boetLpGPy",
        "colab_type": "code",
        "colab": {}
      },
      "source": [
        "pred_df.to_csv('/content/drive/My Drive/datalab/IEEE_CIS_kaggle/predictions.csv')"
      ],
      "execution_count": 0,
      "outputs": []
    },
    {
      "cell_type": "code",
      "metadata": {
        "id": "ozN-2pR-q8Zt",
        "colab_type": "code",
        "outputId": "0be43bd0-11a2-4ca4-d5bc-e5fc6e9baba0",
        "colab": {
          "base_uri": "https://localhost:8080/",
          "height": 204
        }
      },
      "source": [
        "pred_df.head()"
      ],
      "execution_count": 0,
      "outputs": [
        {
          "output_type": "execute_result",
          "data": {
            "text/html": [
              "<div>\n",
              "<style scoped>\n",
              "    .dataframe tbody tr th:only-of-type {\n",
              "        vertical-align: middle;\n",
              "    }\n",
              "\n",
              "    .dataframe tbody tr th {\n",
              "        vertical-align: top;\n",
              "    }\n",
              "\n",
              "    .dataframe thead th {\n",
              "        text-align: right;\n",
              "    }\n",
              "</style>\n",
              "<table border=\"1\" class=\"dataframe\">\n",
              "  <thead>\n",
              "    <tr style=\"text-align: right;\">\n",
              "      <th></th>\n",
              "      <th>0</th>\n",
              "    </tr>\n",
              "  </thead>\n",
              "  <tbody>\n",
              "    <tr>\n",
              "      <th>0</th>\n",
              "      <td>0</td>\n",
              "    </tr>\n",
              "    <tr>\n",
              "      <th>1</th>\n",
              "      <td>0</td>\n",
              "    </tr>\n",
              "    <tr>\n",
              "      <th>2</th>\n",
              "      <td>0</td>\n",
              "    </tr>\n",
              "    <tr>\n",
              "      <th>3</th>\n",
              "      <td>0</td>\n",
              "    </tr>\n",
              "    <tr>\n",
              "      <th>4</th>\n",
              "      <td>0</td>\n",
              "    </tr>\n",
              "  </tbody>\n",
              "</table>\n",
              "</div>"
            ],
            "text/plain": [
              "   0\n",
              "0  0\n",
              "1  0\n",
              "2  0\n",
              "3  0\n",
              "4  0"
            ]
          },
          "metadata": {
            "tags": []
          },
          "execution_count": 57
        }
      ]
    }
  ]
}